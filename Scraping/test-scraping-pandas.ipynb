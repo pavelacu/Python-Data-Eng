{
 "cells": [
  {
   "cell_type": "markdown",
   "metadata": {
    "collapsed": true
   },
   "source": [
    "# Example Scrapping with python"
   ]
  },
  {
   "cell_type": "markdown",
   "metadata": {},
   "source": [
    "This a example for scraping with python.\n",
    "Today get data from HTML site, this is http://www.movistar.com.gt/descubre/movil/multiplicadores-prepago/paquetes-prepago"
   ]
  },
  {
   "cell_type": "code",
   "execution_count": 6,
   "metadata": {},
   "outputs": [],
   "source": [
    "\n",
    "# import libraries\n",
    "from lxml import html\n",
    "import requests\n",
    "import pandas as pd\n",
    "\n",
    "#get request Data\n",
    "page = requests.get('http://www.movistar.com.gt/descubre/movil/multiplicadores-prepago/paquetes-prepago')\n",
    "tree = html.fromstring(page.content)"
   ]
  },
  {
   "cell_type": "markdown",
   "metadata": {},
   "source": [
    "Well, explore the html page, We need to identify the schema organization of data.\n",
    "Go to html page, right click and select \"View source Code\"\n",
    "\n",
    "We view a this a structure data\n",
    "\n",
    "<span class=\"capacidad\">1GB</span>\n",
    "<span class=\"vigencia\">7 días</span>\n",
    "<span class=\"precio\">Q100</span>\n",
    "<span class=\"comoactvidesk hidden-phone\">Envia INTERNET30 al 700 para activar</span>\n",
    "\n",
    "Parse data to list, with the xpath library"
   ]
  },
  {
   "cell_type": "code",
   "execution_count": 7,
   "metadata": {},
   "outputs": [],
   "source": [
    "#This will create a list of capacities:\n",
    "capacities = tree.xpath('//span[@class=\"capacidad\"]/text()')\n",
    "#This will create a list of duration:\n",
    "durations = tree.xpath('//span[@class=\"vigencia\"]/text()')\n",
    "#This will create a list of prices\n",
    "prices = tree.xpath('//span[@class=\"precio\"]/text()')\n",
    "#This will create a list of mode activation\n",
    "activations = tree.xpath('//span[@class=\"comoactvidesk hidden-phone\"]/text()')"
   ]
  },
  {
   "cell_type": "markdown",
   "metadata": {},
   "source": [
    "Now, print information"
   ]
  },
  {
   "cell_type": "code",
   "execution_count": null,
   "metadata": {},
   "outputs": [],
   "source": [
    "df = pd.DataFrame()\n",
    "df['capacities'] = capacities\n",
    "df['duration'] = durations\n",
    "df['prices'] = prices\n",
    "df['activations'] = activations\n",
    "print (df)"
   ]
  },
  {
   "cell_type": "code",
   "execution_count": null,
   "metadata": {},
   "outputs": [],
   "source": []
  }
 ],
 "metadata": {
  "kernelspec": {
   "display_name": "Python 3.6",
   "language": "python",
   "name": "python36"
  },
  "language_info": {
   "codemirror_mode": {
    "name": "ipython",
    "version": 3
   },
   "file_extension": ".py",
   "mimetype": "text/x-python",
   "name": "python",
   "nbconvert_exporter": "python",
   "pygments_lexer": "ipython3",
   "version": "3.6.3"
  }
 },
 "nbformat": 4,
 "nbformat_minor": 2
}
